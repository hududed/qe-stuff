{
 "cells": [
  {
   "cell_type": "code",
   "execution_count": 251,
   "metadata": {},
   "outputs": [],
   "source": [
    "import os\n",
    "import numpy as np\n",
    "import pandas as pd\n",
    "import re\n",
    "from collections import deque"
   ]
  },
  {
   "cell_type": "code",
   "execution_count": 18,
   "metadata": {},
   "outputs": [],
   "source": [
    "file = '../pwscf.in'"
   ]
  },
  {
   "cell_type": "code",
   "execution_count": 349,
   "metadata": {},
   "outputs": [],
   "source": [
    "def file_len(fname):\n",
    "    \"\"\"count total number of lines in file\"\"\"\n",
    "    with open(fname) as f:\n",
    "        for i, l in enumerate(f):\n",
    "            pass\n",
    "    return i + 1\n",
    "\n",
    "def remove_empty_lines(fname):\n",
    "    \"\"\"removes empty lines and \\n in a file\"\"\"\n",
    "    if not os.path.isfile(fname):\n",
    "        print(\"{} does not exist \".format(fname))\n",
    "        return\n",
    "    with open(fname) as filehandle:\n",
    "        lines = filehandle.readlines()\n",
    "    with open(fname, 'w') as filehandle:\n",
    "        lines = filter(lambda x: x.strip() and x.strip('\\n'), lines)\n",
    "        filehandle.writelines(lines)\n",
    "\n",
    "flatten = lambda l: [item for sublist in l for item in sublist]\n",
    "\n",
    "def GetHeader(infile):\n",
    "    param = []\n",
    "    with open(infile) as fp:\n",
    "        for groups in re.findall('&(.*?)/', fp.read(), re.S):\n",
    "            param.append(groups.splitlines()[1:])\n",
    "        return flatten(param)\n",
    "\n",
    "def GetCell(infile):\n",
    "    with open(infile) as fp:\n",
    "        result = re.search(r'.*CELL_PARAMETERS\\s*(.*)$', fp.read(), re.DOTALL)\n",
    "    return result.group(1).splitlines()[1:]\n",
    "\n",
    "def GetAtomPos(infile):\n",
    "    with open(infile) as fp:\n",
    "        result = re.findall('ATOMIC_POSITIONS(.*?)K_POINTS', fp.read(), re.S)\n",
    "    return result"
   ]
  },
  {
   "cell_type": "code",
   "execution_count": 101,
   "metadata": {},
   "outputs": [],
   "source": [
    "remove_empty_lines(file)"
   ]
  },
  {
   "cell_type": "code",
   "execution_count": 102,
   "metadata": {},
   "outputs": [
    {
     "data": {
      "text/plain": [
       "188"
      ]
     },
     "execution_count": 102,
     "metadata": {},
     "output_type": "execute_result"
    }
   ],
   "source": [
    "file_len(file)"
   ]
  },
  {
   "cell_type": "code",
   "execution_count": 265,
   "metadata": {},
   "outputs": [
    {
     "data": {
      "text/plain": [
       "[\"    calculation = 'scf'\",\n",
       " \"    prefix = 'gc'\",\n",
       " \"    pseudo_dir = '\",\n",
       " '    ibrav = 0',\n",
       " '    nat = 148',\n",
       " '    ntyp = 3',\n",
       " '    ecutwfc = 80',\n",
       " \"    occupations = 'smearing'\",\n",
       " \"    smearing = 'gaussian'\",\n",
       " '    degauss = 0.1',\n",
       " \"    vdw_corr='grimme-d2'\",\n",
       " '    tot_charge=1',\n",
       " \"    diagonalization = 'david'\",\n",
       " '    diago_thr_init = 1.d-4',\n",
       " \"    mixing_mode = 'local-TF'\",\n",
       " '    mixing_beta = 0.7',\n",
       " '    conv_thr =  1.d-8']"
      ]
     },
     "execution_count": 265,
     "metadata": {},
     "output_type": "execute_result"
    }
   ],
   "source": [
    "param = GetHeader(file);param"
   ]
  },
  {
   "cell_type": "code",
   "execution_count": 343,
   "metadata": {},
   "outputs": [
    {
     "data": {
      "text/html": [
       "<div>\n",
       "<style scoped>\n",
       "    .dataframe tbody tr th:only-of-type {\n",
       "        vertical-align: middle;\n",
       "    }\n",
       "\n",
       "    .dataframe tbody tr th {\n",
       "        vertical-align: top;\n",
       "    }\n",
       "\n",
       "    .dataframe thead th {\n",
       "        text-align: right;\n",
       "    }\n",
       "</style>\n",
       "<table border=\"1\" class=\"dataframe\">\n",
       "  <thead>\n",
       "    <tr style=\"text-align: right;\">\n",
       "      <th></th>\n",
       "      <th>1</th>\n",
       "    </tr>\n",
       "    <tr>\n",
       "      <th>0</th>\n",
       "      <th></th>\n",
       "    </tr>\n",
       "  </thead>\n",
       "  <tbody>\n",
       "    <tr>\n",
       "      <th>calculation</th>\n",
       "      <td>'scf'</td>\n",
       "    </tr>\n",
       "    <tr>\n",
       "      <th>prefix</th>\n",
       "      <td>'gc'</td>\n",
       "    </tr>\n",
       "    <tr>\n",
       "      <th>pseudo_dir</th>\n",
       "      <td>'</td>\n",
       "    </tr>\n",
       "    <tr>\n",
       "      <th>ibrav</th>\n",
       "      <td>0</td>\n",
       "    </tr>\n",
       "    <tr>\n",
       "      <th>nat</th>\n",
       "      <td>148</td>\n",
       "    </tr>\n",
       "    <tr>\n",
       "      <th>ntyp</th>\n",
       "      <td>3</td>\n",
       "    </tr>\n",
       "    <tr>\n",
       "      <th>ecutwfc</th>\n",
       "      <td>80</td>\n",
       "    </tr>\n",
       "    <tr>\n",
       "      <th>occupations</th>\n",
       "      <td>'smearing'</td>\n",
       "    </tr>\n",
       "    <tr>\n",
       "      <th>smearing</th>\n",
       "      <td>'gaussian'</td>\n",
       "    </tr>\n",
       "    <tr>\n",
       "      <th>degauss</th>\n",
       "      <td>0.1</td>\n",
       "    </tr>\n",
       "    <tr>\n",
       "      <th>vdw_corr</th>\n",
       "      <td>'grimme-d2'</td>\n",
       "    </tr>\n",
       "    <tr>\n",
       "      <th>tot_charge</th>\n",
       "      <td>1</td>\n",
       "    </tr>\n",
       "    <tr>\n",
       "      <th>diagonalization</th>\n",
       "      <td>'david'</td>\n",
       "    </tr>\n",
       "    <tr>\n",
       "      <th>diago_thr_init</th>\n",
       "      <td>1.d-4</td>\n",
       "    </tr>\n",
       "    <tr>\n",
       "      <th>mixing_mode</th>\n",
       "      <td>'local-TF'</td>\n",
       "    </tr>\n",
       "    <tr>\n",
       "      <th>mixing_beta</th>\n",
       "      <td>0.7</td>\n",
       "    </tr>\n",
       "    <tr>\n",
       "      <th>conv_thr</th>\n",
       "      <td>1.d-8</td>\n",
       "    </tr>\n",
       "  </tbody>\n",
       "</table>\n",
       "</div>"
      ],
      "text/plain": [
       "                                1\n",
       "0                                \n",
       "    calculation             'scf'\n",
       "    prefix                   'gc'\n",
       "    pseudo_dir                  '\n",
       "    ibrav                       0\n",
       "    nat                       148\n",
       "    ntyp                        3\n",
       "    ecutwfc                    80\n",
       "    occupations        'smearing'\n",
       "    smearing           'gaussian'\n",
       "    degauss                   0.1\n",
       "    vdw_corr          'grimme-d2'\n",
       "    tot_charge                  1\n",
       "    diagonalization       'david'\n",
       "    diago_thr_init          1.d-4\n",
       "    mixing_mode        'local-TF'\n",
       "    mixing_beta               0.7\n",
       "    conv_thr                1.d-8"
      ]
     },
     "execution_count": 343,
     "metadata": {},
     "output_type": "execute_result"
    }
   ],
   "source": [
    "df_head = pd.DataFrame(param)\n",
    "df_head_split = df_head.iloc[:,0].str.split(\"=\", expand = True)\n",
    "df_head_indexed = df_head_split.set_index([0])\n",
    "df_head_indexed"
   ]
  },
  {
   "cell_type": "code",
   "execution_count": 327,
   "metadata": {},
   "outputs": [
    {
     "data": {
      "text/plain": [
       "['7.378073983 0.000000000 0.0000000000',\n",
       " '0.000000000 17.038932 0.0000000000',\n",
       " '0.000000000 0.000000000 25.00']"
      ]
     },
     "execution_count": 327,
     "metadata": {},
     "output_type": "execute_result"
    }
   ],
   "source": [
    "cell = GetCell(file); cell"
   ]
  },
  {
   "cell_type": "code",
   "execution_count": 344,
   "metadata": {},
   "outputs": [
    {
     "data": {
      "text/html": [
       "<div>\n",
       "<style scoped>\n",
       "    .dataframe tbody tr th:only-of-type {\n",
       "        vertical-align: middle;\n",
       "    }\n",
       "\n",
       "    .dataframe tbody tr th {\n",
       "        vertical-align: top;\n",
       "    }\n",
       "\n",
       "    .dataframe thead th {\n",
       "        text-align: right;\n",
       "    }\n",
       "</style>\n",
       "<table border=\"1\" class=\"dataframe\">\n",
       "  <thead>\n",
       "    <tr style=\"text-align: right;\">\n",
       "      <th></th>\n",
       "      <th>0</th>\n",
       "      <th>1</th>\n",
       "      <th>2</th>\n",
       "    </tr>\n",
       "  </thead>\n",
       "  <tbody>\n",
       "    <tr>\n",
       "      <th>0</th>\n",
       "      <td>7.378073983</td>\n",
       "      <td>0.000000000</td>\n",
       "      <td>0.0000000000</td>\n",
       "    </tr>\n",
       "    <tr>\n",
       "      <th>1</th>\n",
       "      <td>0.000000000</td>\n",
       "      <td>17.038932</td>\n",
       "      <td>0.0000000000</td>\n",
       "    </tr>\n",
       "    <tr>\n",
       "      <th>2</th>\n",
       "      <td>0.000000000</td>\n",
       "      <td>0.000000000</td>\n",
       "      <td>25.00</td>\n",
       "    </tr>\n",
       "  </tbody>\n",
       "</table>\n",
       "</div>"
      ],
      "text/plain": [
       "             0            1             2\n",
       "0  7.378073983  0.000000000  0.0000000000\n",
       "1  0.000000000    17.038932  0.0000000000\n",
       "2  0.000000000  0.000000000         25.00"
      ]
     },
     "execution_count": 344,
     "metadata": {},
     "output_type": "execute_result"
    }
   ],
   "source": [
    "df_cell = pd.DataFrame(cell)\n",
    "df_cell = df_cell[0].str.split(\" \", expand = True)\n",
    "df_cell"
   ]
  },
  {
   "cell_type": "code",
   "execution_count": 351,
   "metadata": {},
   "outputs": [
    {
     "data": {
      "text/plain": [
       "[' angstrom\\nCu       0.000000000   0.000418475   7.356821029\\nCu       1.844464273   1.704158296   7.358113474\\nCu       3.689036991   0.000230648   7.357039041\\nCu       5.533609710   1.704158296   7.358113474\\nCu       0.000000000   3.407517063   7.358466518\\nCu       1.844400743   5.111308876   7.357351579\\nCu       3.689036991   3.407727228   7.358240984\\nCu       5.533673240   5.111308876   7.357351579\\nCu       0.000000000   6.815511010   7.356398114\\nCu       1.844634168   8.519772057   7.356953132\\nCu       3.689036991   6.815461467   7.356476022\\nCu       5.533439815   8.519772057   7.356953132\\nCu       0.000000000  10.223468654   7.358028091\\nCu       1.844539688  11.927112673   7.358331490\\nCu       3.689036991  10.223807389   7.358156514\\nCu       5.533534295  11.927112673   7.358331490\\nCu       0.000000000  13.630948247   7.357392531\\nCu       1.844550038  15.334971289   7.356489427\\nCu       3.689036991  13.630621770   7.357247606\\nCu       5.533523945  15.334971289   7.356489427\\nCu       0.000000000   1.702907129   9.191341473\\nCu       1.844438909  -0.000744907   9.189954839\\nCu       3.689036991   1.703551598   9.190679517\\nCu       5.533635074  -0.000744907   9.189954839\\nCu       0.000000000   5.112847222   9.190428845\\nCu       1.844425335   3.408148815   9.191205379\\nCu       3.689036991   5.112276176   9.190183685\\nCu       5.533648648   3.408148815   9.191205379\\nCu       0.000000000   8.518829327   9.189889741\\nCu       1.844504161   6.815753367   9.189500749\\nCu       3.689036991   8.518549154   9.189981167\\nCu       5.533569822   6.815753367   9.189500749\\nCu       0.000000000  11.927416048   9.190800411\\nCu       1.844637084  10.222684267   9.190965266\\nCu       3.689036991  11.927804152   9.191618641\\nCu       5.533436899  10.222684267   9.190965266\\nCu       0.000000000  15.335321394   9.189510302\\nCu       1.844637124  13.632015116   9.190283899\\nCu       3.689036991  15.335146265   9.189503368\\nCu       5.533436859  13.632015116   9.190283899\\nCu       0.000000000  -0.002347759  11.033396523\\nCu       1.844683866   1.702259156  11.031458639\\nCu       3.689036991  -0.001519276  11.032267751\\nCu       5.533390117   1.702259156  11.031458639\\nCu       0.000000000   3.408857710  11.030642113\\nCu       1.844768883   5.113909116  11.032291860\\nCu       3.689036991   3.408593163  11.031802605\\nCu       5.533305100   5.113909116  11.032291860\\nCu       0.000000000   6.816453312  11.033573094\\nCu       1.844303176   8.517491616  11.032710091\\nCu       3.689036991   6.815593925  11.033225129\\nCu       5.533770807   8.517491616  11.032710091\\nCu       0.000000000  10.221917940  11.031744996\\nCu       1.844415754  11.928144920  11.031178595\\nCu       3.689036991  10.221406937  11.031213977\\nCu       5.533658229  11.928144920  11.031178595\\nCu       0.000000000  13.632997106  11.031923194\\nCu       1.844467030  15.335513963  11.033238175\\nCu       3.689036991  13.633767403  11.032805114\\nCu       5.533606953  15.335513963  11.033238175\\nCu       0.000000000   1.704875650  12.867934385\\nCu       1.845321668  -0.000954660  12.875092349\\nCu       3.689036991   1.701417347  12.871776807\\nCu       5.532752315  -0.000954660  12.875092349\\nCu       0.000000000   5.111525457  12.871831684\\nCu       1.846671710   3.408325014  12.868243939\\nCu       3.689036991   5.113751396  12.875711780\\nCu       5.531402273   3.408325014  12.868243939\\nCu       0.000000000   8.518568354  12.877323819\\nCu       1.844681040   6.815796680  12.877568455\\nCu       3.689036991   8.518723412  12.874088368\\nCu       5.533392943   6.815796680  12.877568455\\nCu       0.000000000  11.928716179  12.870367591\\nCu       1.842628110  10.222406618  12.869377470\\nCu       3.689036991  11.926587526  12.866795139\\nCu       5.535445873  10.222406618  12.869377470\\nCu       0.000000000  15.333645149  12.878438474\\nCu       1.843357431  13.632293836  12.873121412\\nCu       3.689036991  15.336814532  12.877692087\\nCu       5.534716552  13.632293836  12.873121412\\nCu       0.000000000   0.007917974  14.687318150\\nCu       1.846771772   1.707766144  14.685965650\\nCu       3.689036991   0.000984897  14.700568619\\nCu       5.531302211   1.707766144  14.685965650\\nCu       0.000000000   3.407473856  14.683679325\\nCu       1.850746496   5.106622004  14.689953189\\nCu       3.689036991   3.403544200  14.692223105\\nCu       5.527327487   5.106622004  14.689953189\\nCu       0.000000000   6.806050961  14.694111852\\nCu       1.838080764   8.523830065  14.691694563\\nCu       3.689036991   6.823063270  14.697547063\\nCu       5.539993219   8.523830065  14.691694563\\nCu       0.000000000  10.230366392  14.694390747\\nCu       1.844173456  11.925111814  14.684617429\\nCu       3.689036991  10.224581410  14.683695270\\nCu       5.533900527  11.925111814  14.684617429\\nCu       0.000000000  13.626061327  14.699493142\\nCu       1.842719093  15.333986336  14.693533347\\nCu       3.689036991  13.625683241  14.685205226\\nCu       5.535354890  15.333986336  14.693533347\\nC        0.000000000   0.710480657  17.625386117\\nC        0.000000000   2.129994783  17.634123029\\nC        1.229425460   0.000320977  17.617690007\\nC        1.228375583   2.839795767  17.623815585\\nC        2.457811762   0.709899315  17.604200808\\nC        2.457842752   2.129775886  17.601740771\\nC        3.689036991  -0.000603345  17.593524322\\nC        3.689036991   2.840024919  17.591092369\\nC        4.920262220   0.709899315  17.604200808\\nC        4.920231230   2.129775886  17.601740771\\nC        6.148648523   0.000320977  17.617690007\\nC        6.149698400   2.839795767  17.623815585\\nC        0.000000000   4.969253366  17.628070084\\nC        0.000000000   6.388967846  17.612170705\\nC        1.228271187   4.259528860  17.620937268\\nC        1.230240519   7.099286667  17.611657488\\nC        2.458443888   4.969859069  17.602643948\\nC        2.458397003   6.389808595  17.608620661\\nC        3.689036991   4.259867347  17.595573641\\nC      3.689036991   7.100201309  17.604692956\\nC        4.919630094   4.969859069  17.602643948\\nC        4.919676979   6.389808595  17.608620661\\nC        6.149802796   4.259528860  17.620937268\\nC        6.147833464   7.099286667  17.611657488\\nC        0.000000000   9.229134521  17.598686238\\nC        0.000000000  10.648995568  17.589971090\\nC        1.230190473   8.519246232  17.603860742\\nC        1.231355762  11.359359108  17.602000991\\nC        2.460657871   9.229717785  17.618068300\\nC        2.460488616  10.649481002  17.623712035\\nC        3.689036991   8.520001451  17.622907345\\nC        3.689036991  11.359355542  17.634650696\\nC        4.917416111   9.229717785  17.618068300\\nC        4.917585366  10.649481002  17.623712035\\nC        6.147883510   8.519246232  17.603860742\\nC        6.146718221  11.359359108  17.602000991\\nC        0.000000000  13.489708798  17.590817762\\nC        0.000000000  14.909574070  17.606592100\\nC        1.231370325  12.779202422  17.603127410\\nC        1.229324681  15.619367815  17.608024663\\nC        2.459963907  13.488866414  17.620434265\\nC        2.460109581  14.908699225  17.611138635\\nC        3.689036991  12.778795233  17.630201440\\nC        3.689036991  15.618463298  17.611608756\\nC        4.918110075  13.488866414  17.620434265\\nC        4.917964401  14.908699225  17.611138635\\nC        6.146703658  12.779202422  17.603127410\\nC        6.148749302  15.619367815  17.608024663\\n']"
      ]
     },
     "execution_count": 351,
     "metadata": {},
     "output_type": "execute_result"
    }
   ],
   "source": [
    "atoms = GetAtomPos(file);atoms"
   ]
  },
  {
   "cell_type": "code",
   "execution_count": null,
   "metadata": {},
   "outputs": [],
   "source": []
  }
 ],
 "metadata": {
  "kernelspec": {
   "display_name": "Python 3",
   "language": "python",
   "name": "python3"
  },
  "language_info": {
   "codemirror_mode": {
    "name": "ipython",
    "version": 3
   },
   "file_extension": ".py",
   "mimetype": "text/x-python",
   "name": "python",
   "nbconvert_exporter": "python",
   "pygments_lexer": "ipython3",
   "version": "3.6.5"
  }
 },
 "nbformat": 4,
 "nbformat_minor": 2
}
